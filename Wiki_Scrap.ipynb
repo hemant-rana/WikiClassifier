{
  "nbformat": 4,
  "nbformat_minor": 0,
  "metadata": {
    "colab": {
      "name": "Wiki_Scrap.ipynb",
      "provenance": [],
      "collapsed_sections": []
    },
    "kernelspec": {
      "name": "python3",
      "display_name": "Python 3"
    }
  },
  "cells": [
    {
      "cell_type": "code",
      "metadata": {
        "id": "JmV_SVgmUgGY"
      },
      "source": [
        "import pandas as pd\n",
        "from bs4 import BeautifulSoup\n",
        "import requests\n",
        "from lxml import html\n",
        "import numpy as np"
      ],
      "execution_count": 13,
      "outputs": []
    },
    {
      "cell_type": "code",
      "metadata": {
        "id": "bCuvRnI3VHrz"
      },
      "source": [
        "def wiki(search):\n",
        "  #search = \"_\".join(search.split(\" \"))\n",
        "  try:\n",
        "    url = \"https://en.m.wikipedia.org/wiki/\"+search\n",
        "    r = requests.get(url)\n",
        "    soup = BeautifulSoup(r.content,\"html.parser\")\n",
        "    mysec = soup.find(\"section\", {\"class\": \"mf-section-0\"})\n",
        "    #mysec = soup.select(\"section#mf-section-0.mf-section-0\")\n",
        "    sumtext = []\n",
        "    z = mysec.find_all(\"p\")\n",
        "    for y in z:\n",
        "      sumtext.append(y.get_text())\n",
        "    return \" \".join(sumtext).replace(\"\\displaystyle\",\" \")\n",
        "  except:\n",
        "    print(search)\n",
        "    return np.nan"
      ],
      "execution_count": 14,
      "outputs": []
    },
    {
      "cell_type": "code",
      "metadata": {
        "id": "jhOzwUPSj49j"
      },
      "source": [
        "Wiki_dataset = pd.read_csv(\"/content/drive/My Drive/ML/wikinew.csv\",header=None)\n",
        "Names = Wiki_dataset.iloc[:,1]\n",
        "Categories_code = Wiki_dataset.iloc[:,0]\n",
        "Categories_code = Categories_code.replace(\"Chemistry\",1).replace(\"Physics\",2).replace(\"Mathematics\",3).replace(\"Computer Science\",4).replace(\"Biology\",5).replace(\"Economics\",6)"
      ],
      "execution_count": 15,
      "outputs": []
    },
    {
      "cell_type": "code",
      "metadata": {
        "id": "mw22J2_CWLMK"
      },
      "source": [
        "ScrapData = Names.apply(wiki)"
      ],
      "execution_count": null,
      "outputs": []
    },
    {
      "cell_type": "code",
      "metadata": {
        "id": "OC_jXlH8WQk5"
      },
      "source": [
        "Wiki_Dataset_Updated = pd.DataFrame({\"Names\":Names,\"Categories\":Wiki_dataset.iloc[:,0],\"Categories_code\":Categories_code,\"ScrapData\":ScrapData})"
      ],
      "execution_count": 29,
      "outputs": []
    },
    {
      "cell_type": "code",
      "metadata": {
        "id": "rJtlPhfneSax"
      },
      "source": [
        "Wiki_Dataset_Updated = Wiki_Dataset_Updated.dropna()"
      ],
      "execution_count": 30,
      "outputs": []
    },
    {
      "cell_type": "code",
      "metadata": {
        "id": "ilT4KZATrvUi"
      },
      "source": [
        "Wiki_Dataset_Updated.tail()"
      ],
      "execution_count": null,
      "outputs": []
    },
    {
      "cell_type": "code",
      "metadata": {
        "id": "VjTGWYtGeUHK"
      },
      "source": [
        "Wiki_Dataset_Updated.to_csv(\"/content/drive/My Drive/ML/wiki_data.csv\",index=False)"
      ],
      "execution_count": 32,
      "outputs": []
    }
  ]
}