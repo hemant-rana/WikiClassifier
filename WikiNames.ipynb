{
  "nbformat": 4,
  "nbformat_minor": 0,
  "metadata": {
    "colab": {
      "name": "WikiNames.ipynb",
      "provenance": [],
      "collapsed_sections": []
    },
    "kernelspec": {
      "name": "python3",
      "display_name": "Python 3"
    }
  },
  "cells": [
    {
      "cell_type": "code",
      "metadata": {
        "id": "Yuiln4qgHHqL"
      },
      "source": [
        "from bs4 import BeautifulSoup\n",
        "import pandas as pd\n",
        "import requests\n",
        "from lxml import html"
      ],
      "execution_count": 19,
      "outputs": []
    },
    {
      "cell_type": "code",
      "metadata": {
        "colab": {
          "base_uri": "https://localhost:8080/"
        },
        "id": "ZgkyJNx6HXQQ",
        "outputId": "fcdc332c-786d-40d7-a795-384e9aa48158"
      },
      "source": [
        "urlChem = \"https://en.wikipedia.org/wiki/Glossary_of_areas_of_mathematics\"\n",
        "r = requests.get(url=urlChem)\n",
        "soup = BeautifulSoup(r.content,\"html.parser\")\n",
        "#link=soup.find_all(\"dfn\")\n",
        "link=soup.find_all(\"b\")\n",
        "sum = 0\n",
        "y = []\n",
        "for i in link:\n",
        "  try:\n",
        "    x = i.find(\"a\")\n",
        "    x = x['href']\n",
        "    y.append(x.replace(\"/wiki/\",\"\"))\n",
        "  except:\n",
        "    sum = sum +1\n",
        "sum"
      ],
      "execution_count": 90,
      "outputs": [
        {
          "output_type": "execute_result",
          "data": {
            "text/plain": [
              "6"
            ]
          },
          "metadata": {
            "tags": []
          },
          "execution_count": 90
        }
      ]
    },
    {
      "cell_type": "code",
      "metadata": {
        "id": "AWSmZg2EMMtH"
      },
      "source": [
        "dddd = pd.DataFrame(data=y)"
      ],
      "execution_count": null,
      "outputs": []
    },
    {
      "cell_type": "code",
      "metadata": {
        "id": "I6jPa1b4N6SJ"
      },
      "source": [
        "dddd.to_csv(\"/content/drive/My Drive/chem.csv\",index=False)"
      ],
      "execution_count": 93,
      "outputs": []
    }
  ]
}